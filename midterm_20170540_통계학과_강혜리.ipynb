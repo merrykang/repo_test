{
  "nbformat": 4,
  "nbformat_minor": 0,
  "metadata": {
    "colab": {
      "provenance": [],
      "collapsed_sections": []
    },
    "kernelspec": {
      "name": "python3",
      "display_name": "Python 3"
    },
    "language_info": {
      "name": "python"
    },
    "accelerator": "GPU",
    "gpuClass": "standard"
  },
  "cells": [
    {
      "cell_type": "markdown",
      "source": [
        "# **5. (각 10점) (Keras 이용) MNIST 데이터는 60,000개의 훈련 자료와 10,000개의 시험 자료로 이루어져 있다. MNIST 데이터를 이용하여 DNN과 CNN을 비교하려고 한다. 다음 물음에 답하시오.**"
      ],
      "metadata": {
        "id": "8K7JnSCNcr9O"
      }
    },
    {
      "cell_type": "markdown",
      "source": [
        "## *(a) 아래 왼쪽 그림과 같은 DNN을 디자인하시오. 그리고 해당 모형에 대해 gradient descent algorithm으로 추정해야 하는 모수의 수를 구하시오.*"
      ],
      "metadata": {
        "id": "bmPWuJeocvoD"
      }
    },
    {
      "cell_type": "markdown",
      "source": [
        "### 1) 환경설정"
      ],
      "metadata": {
        "id": "TclLM5YKda49"
      }
    },
    {
      "cell_type": "code",
      "source": [
        "#필요한 모듈 불러오기\n",
        "from tensorflow.keras.datasets import mnist     #MNIST 데이터셋을 keras에서 불러오기\n",
        "from tensorflow.keras.utils import to_categorical       #분류문제 해결 위한 모듈\n",
        "from tensorflow.keras.models import Sequential\n",
        "from tensorflow.keras.layers import Dense, Flatten      #모델 학습 위해 필요한 모듈\n",
        "from tensorflow.keras.layers import Activation, Conv2D, MaxPooling2D, Dense, Flatten\n",
        "from tensorflow.keras.layers import Dropout, BatchNormalization\n",
        "from tensorflow import keras\n",
        "\n",
        "from sklearn.metrics import confusion_matrix\n",
        "import matplotlib.pyplot as plt\n",
        "import pandas as pd\n",
        "import numpy as np\n",
        "\n",
        "#디렉토리 위치 지정\n",
        "from google.colab import drive\n",
        "drive.mount('/content/gdrive')"
      ],
      "metadata": {
        "colab": {
          "base_uri": "https://localhost:8080/"
        },
        "id": "akbxH_T5dIZF",
        "outputId": "30d4d573-552c-4366-e374-cceac75f4e75"
      },
      "execution_count": 2,
      "outputs": [
        {
          "output_type": "stream",
          "name": "stdout",
          "text": [
            "Mounted at /content/gdrive\n"
          ]
        }
      ]
    },
    {
      "cell_type": "markdown",
      "source": [
        "### 2) 데이터 확인\n"
      ],
      "metadata": {
        "id": "0gVrINa_dhdH"
      }
    },
    {
      "cell_type": "code",
      "source": [
        "#mnist 데이터 불러오기\n",
        "(x_train, y_train), (x_test, y_test) = mnist.load_data()  #훈련 자료(train data), 시험 자료(test data) 가져오기"
      ],
      "metadata": {
        "id": "LfQK1YlqdXO9"
      },
      "execution_count": null,
      "outputs": []
    },
    {
      "cell_type": "code",
      "source": [
        "#훈련 자료, 평가 자료 분리 \n",
        "np.random.seed(1234)\n",
        "val_ind = np.random.choice(x_train.shape[0], 10000, replace=False)  #평가자료를 x_train 데이터에서 10000개 랜덤 샘플링\n",
        "tr_ind = np.setdiff1d(np.arange(x_train.shape[0]),val_ind)          #원본 x_train과 평가자료의 차집합(나머지 50000개)을 훈련자료로 지정\n",
        "\n",
        "x_valid, y_valid = x_train[val_ind], y_train[val_ind]\n",
        "x_train, y_train = x_train[tr_ind], y_train[tr_ind]"
      ],
      "metadata": {
        "id": "oJmxLdhTlL1X"
      },
      "execution_count": 4,
      "outputs": []
    },
    {
      "cell_type": "markdown",
      "source": [
        "### 3) 전처리"
      ],
      "metadata": {
        "id": "uXWUwLX3dlUK"
      }
    },
    {
      "cell_type": "code",
      "source": [
        "#이미지 데이터 전처리\n",
        "x_train = x_train.astype('float32')     #데이터 타입을 float32로 변경\n",
        "x_train = x_train/255                   #정규화\n",
        "\n",
        "x_test = x_test.astype('float32')\n",
        "x_test = x_test/255"
      ],
      "metadata": {
        "id": "sLtVDDcDdnrH"
      },
      "execution_count": 5,
      "outputs": []
    },
    {
      "cell_type": "code",
      "source": [
        "#레이블 데이터 전처리\n",
        "y_onehot_train = to_categorical(y_train, num_classes=10) # 분류 문제이므로 one-hot encoding을 하여 10개의 레이블이 0, 1로 표현되도록 변경\n",
        "y_onehot_test = to_categorical(y_test, num_classes=10)"
      ],
      "metadata": {
        "id": "wroS8cJudsDW"
      },
      "execution_count": 6,
      "outputs": []
    },
    {
      "cell_type": "markdown",
      "source": [
        "## 4) Neural networks 디자인"
      ],
      "metadata": {
        "id": "iGZ-BEaOienJ"
      }
    },
    {
      "cell_type": "markdown",
      "source": [
        "### (1) DNN 디자인"
      ],
      "metadata": {
        "id": "nWcYAXJzdwAy"
      }
    },
    {
      "cell_type": "code",
      "source": [
        "#신경망 모델에 들어가는 hyper parameter 설정\n",
        "OUTPUT_SHAPE = 10                   #output layer의 nod의 개수(출력 데이터가 나오는 포맷) \n",
        "BATCH_SIZE = 128                     #mini-batch 사이즈 즉, 학습할 데이터 일부의 개수\n",
        "EPOCHS = 10           \n",
        "VERBOSE = 1                          #학습 진행 상황 출력 모드 설정"
      ],
      "metadata": {
        "id": "zGobVYdUdxgr"
      },
      "execution_count": 7,
      "outputs": []
    },
    {
      "cell_type": "code",
      "source": [
        "#신경망 모델 생성 \n",
        "#신경망 모델 생성 \n",
        "model = Sequential()\n",
        "model.add(Flatten())\n",
        "model.add(Dense(100, activation='relu'))\n",
        "model.add(BatchNormalization())\n",
        "model.add(Dense(100, activation='relu'))\n",
        "model.add(BatchNormalization())\n",
        "model.add(Dense(100, activation='relu'))\n",
        "model.add(BatchNormalization())\n",
        "model.add(Dense(10, activation='softmax'))\n"
      ],
      "metadata": {
        "id": "j_ehQwgxd429"
      },
      "execution_count": 8,
      "outputs": []
    },
    {
      "cell_type": "markdown",
      "source": [
        "### (2) 추정해야 하는 모수의 수\n"
      ],
      "metadata": {
        "id": "FRSb2WJeo1Jf"
      }
    },
    {
      "cell_type": "markdown",
      "source": [
        ": 28*28=784개 "
      ],
      "metadata": {
        "id": "Ws4tlUqh_lID"
      }
    },
    {
      "cell_type": "markdown",
      "source": [
        "## (b) 아래 오른쪽 그림과 같은 CNN을 디자인하시오. 그리고 해당 모형에 대해 gradient descent algorithm으로 추정해야 하는 모수의 수를 구하시오. "
      ],
      "metadata": {
        "id": "w8Quv6wDc2gk"
      }
    },
    {
      "cell_type": "markdown",
      "source": [
        "### (1) CNN 디자인"
      ],
      "metadata": {
        "id": "YTjGpILofvhH"
      }
    },
    {
      "cell_type": "code",
      "source": [
        "#신경망 모델에 들어가는 hyper parameter 설정\n",
        "OUTPUT_SHAPE = 10                   #output layer의 nod의 개수(출력 데이터가 나오는 포맷) \n",
        "BATCH_SIZE = 128                     #mini-batch 사이즈 즉, 학습할 데이터 일부의 개수\n",
        "EPOCHS = 10           \n",
        "VERBOSE = 1       "
      ],
      "metadata": {
        "id": "ZHe4AF0nhBae"
      },
      "execution_count": 9,
      "outputs": []
    },
    {
      "cell_type": "code",
      "source": [
        "##데이터 전처리\n",
        "#파라미터 정규화: -0.5 ~ 0.5 사이의 값을 갖도록 scaling\n",
        "x_train = (x_train / 255) - 0.5\n",
        "x_valid = (x_valid / 255) - 0.5\n",
        "x_test = (x_test / 255) - 0.5\n",
        "\n",
        "#3차원 tensor로 변환\n",
        "x_train = np.expand_dims(x_train, axis=3)\n",
        "x_valid = np.expand_dims(x_valid, axis=3)\n",
        "x_test = np.expand_dims(x_test, axis=3)\n",
        "\n",
        "#binary class matrix로 변경 \n",
        "y_train_onehot = to_categorical(y_train, num_classes=10)\n",
        "y_valid_onehot = to_categorical(y_valid, num_classes=10)\n",
        "y_test_onehot = to_categorical(y_test, num_classes=10)\n",
        "\n",
        "#데이터 전처리 결과 확인\n",
        "print(x_train.shape)\n",
        "print(x_valid.shape)\n",
        "print(x_test.shape)"
      ],
      "metadata": {
        "colab": {
          "base_uri": "https://localhost:8080/"
        },
        "id": "5-Re2HKcfvI8",
        "outputId": "98147a7d-bebf-4a05-dbf0-8f8334ec3c23"
      },
      "execution_count": 10,
      "outputs": [
        {
          "output_type": "stream",
          "name": "stdout",
          "text": [
            "(50000, 28, 28, 1)\n",
            "(10000, 28, 28, 1)\n",
            "(10000, 28, 28, 1)\n"
          ]
        }
      ]
    },
    {
      "cell_type": "code",
      "source": [
        "##CNN 디자인\n",
        "#신경망 모델 생성 \n",
        "filter_size = 3              #convolution 한 층의 filter 및 pooling 할 size 설정\n",
        "pool_size = 2\n",
        "\n",
        "model2 = Sequential([\n",
        "  keras.Input(shape=(28,28,1)),\n",
        "\n",
        "  Conv2D(filters = 50, kernel_size = (3,3), padding='same'), \n",
        " BatchNormalization(),                                     \n",
        "  Activation('relu'),\n",
        "  MaxPooling2D(pool_size=pool_size),\n",
        "   Conv2D(filters = 50, kernel_size = (3,3), padding='same'),   \n",
        " BatchNormalization(),                                     \n",
        "  Activation('relu'),\n",
        "  MaxPooling2D(pool_size=pool_size),\n",
        "\n",
        "  Flatten(),\n",
        "  Dense(20),                       \n",
        "  Activation('relu'),\n",
        "  Dense(10, activation='softmax'),\n",
        "])\n",
        "\n",
        "model2.summary()"
      ],
      "metadata": {
        "colab": {
          "base_uri": "https://localhost:8080/"
        },
        "id": "zjxIkVHegCF6",
        "outputId": "ea430411-c3b3-40cc-d25f-11b65e030abe"
      },
      "execution_count": 11,
      "outputs": [
        {
          "output_type": "stream",
          "name": "stdout",
          "text": [
            "Model: \"sequential_1\"\n",
            "_________________________________________________________________\n",
            " Layer (type)                Output Shape              Param #   \n",
            "=================================================================\n",
            " conv2d (Conv2D)             (None, 28, 28, 50)        500       \n",
            "                                                                 \n",
            " batch_normalization_3 (Batc  (None, 28, 28, 50)       200       \n",
            " hNormalization)                                                 \n",
            "                                                                 \n",
            " activation (Activation)     (None, 28, 28, 50)        0         \n",
            "                                                                 \n",
            " max_pooling2d (MaxPooling2D  (None, 14, 14, 50)       0         \n",
            " )                                                               \n",
            "                                                                 \n",
            " conv2d_1 (Conv2D)           (None, 14, 14, 50)        22550     \n",
            "                                                                 \n",
            " batch_normalization_4 (Batc  (None, 14, 14, 50)       200       \n",
            " hNormalization)                                                 \n",
            "                                                                 \n",
            " activation_1 (Activation)   (None, 14, 14, 50)        0         \n",
            "                                                                 \n",
            " max_pooling2d_1 (MaxPooling  (None, 7, 7, 50)         0         \n",
            " 2D)                                                             \n",
            "                                                                 \n",
            " flatten_1 (Flatten)         (None, 2450)              0         \n",
            "                                                                 \n",
            " dense_4 (Dense)             (None, 20)                49020     \n",
            "                                                                 \n",
            " activation_2 (Activation)   (None, 20)                0         \n",
            "                                                                 \n",
            " dense_5 (Dense)             (None, 10)                210       \n",
            "                                                                 \n",
            "=================================================================\n",
            "Total params: 72,680\n",
            "Trainable params: 72,480\n",
            "Non-trainable params: 200\n",
            "_________________________________________________________________\n"
          ]
        }
      ]
    },
    {
      "cell_type": "markdown",
      "source": [
        "### (2) 추정해야하는 모수의 수\n"
      ],
      "metadata": {
        "id": "zyy96Q-VotiT"
      }
    },
    {
      "cell_type": "markdown",
      "source": [
        "=3 * 3 * 50(필터 개수) = 450개"
      ],
      "metadata": {
        "id": "xzfEU9F3ALnV"
      }
    },
    {
      "cell_type": "markdown",
      "source": [
        "## (c) 60,000개의 훈련 자료를 활용하여 (a), (b)에서 디자인한 모형들을 학습하시오. 단, 두 모형 모두 optimizer는 adam, mini-batch는 128을 이용하여 총 10epoch을 학습하시오 (최적의 모형은 찾지 않아도 된다.)."
      ],
      "metadata": {
        "id": "KUL8Dt6Gc_CX"
      }
    },
    {
      "cell_type": "markdown",
      "source": [
        "## (1) DNN 학습 "
      ],
      "metadata": {
        "id": "lKPVPn0Xir9C"
      }
    },
    {
      "cell_type": "code",
      "source": [
        "#신경망 모델 컴파일\n",
        "model.compile(\n",
        "    optimizer='adam',                 #최적화 알고리즘 adam 사용\n",
        "    loss='categorical_crossentropy',  #분류 문제이므로 목적 함수는 cross-entropy 사용\n",
        "    metrics=['accuracy']              #매 에폭이 끝날 때마다 정분류율 출력\n",
        ")"
      ],
      "metadata": {
        "id": "d7PlBHpDd7yU"
      },
      "execution_count": 12,
      "outputs": []
    },
    {
      "cell_type": "code",
      "source": [
        "history = model.fit(               \n",
        "    x_train, y_train_onehot,\n",
        "    epochs=EPOCHS,\n",
        "    batch_size=BATCH_SIZE,\n",
        "    verbose=VERBOSE,\n",
        "    validation_split=0\n",
        ")"
      ],
      "metadata": {
        "colab": {
          "base_uri": "https://localhost:8080/"
        },
        "id": "rcmnlekQix6e",
        "outputId": "ba5d3cff-10f5-42e2-9caf-35832fa54815"
      },
      "execution_count": 13,
      "outputs": [
        {
          "output_type": "stream",
          "name": "stdout",
          "text": [
            "Epoch 1/10\n",
            "391/391 [==============================] - 5s 5ms/step - loss: 0.3311 - accuracy: 0.9004\n",
            "Epoch 2/10\n",
            "391/391 [==============================] - 2s 5ms/step - loss: 0.1447 - accuracy: 0.9560\n",
            "Epoch 3/10\n",
            "391/391 [==============================] - 2s 5ms/step - loss: 0.1071 - accuracy: 0.9669\n",
            "Epoch 4/10\n",
            "391/391 [==============================] - 2s 5ms/step - loss: 0.0860 - accuracy: 0.9740\n",
            "Epoch 5/10\n",
            "391/391 [==============================] - 2s 5ms/step - loss: 0.0733 - accuracy: 0.9775\n",
            "Epoch 6/10\n",
            "391/391 [==============================] - 2s 5ms/step - loss: 0.0614 - accuracy: 0.9801\n",
            "Epoch 7/10\n",
            "391/391 [==============================] - 2s 6ms/step - loss: 0.0649 - accuracy: 0.9783\n",
            "Epoch 8/10\n",
            "391/391 [==============================] - 2s 5ms/step - loss: 0.0573 - accuracy: 0.9809\n",
            "Epoch 9/10\n",
            "391/391 [==============================] - 2s 5ms/step - loss: 0.0461 - accuracy: 0.9848\n",
            "Epoch 10/10\n",
            "391/391 [==============================] - 2s 5ms/step - loss: 0.0527 - accuracy: 0.9831\n"
          ]
        }
      ]
    },
    {
      "cell_type": "markdown",
      "source": [
        "## (2) CNN 학습"
      ],
      "metadata": {
        "id": "QKvizFP2iusn"
      }
    },
    {
      "cell_type": "code",
      "source": [
        "##신경망 모델 컴파일\n",
        "model2.compile(\n",
        "  'adam',\n",
        "  loss='categorical_crossentropy',\n",
        "  metrics=['accuracy'],\n",
        ")"
      ],
      "metadata": {
        "id": "FS_G5UIYjHUb"
      },
      "execution_count": 14,
      "outputs": []
    },
    {
      "cell_type": "code",
      "source": [
        "##신경망 모델 학습\n",
        "history = model2.fit(x=x_train,y=y_train_onehot, \n",
        "          epochs=10, \n",
        "          validation_data=(x_valid, y_valid_onehot),\n",
        "          verbose=1,\n",
        "          batch_size=128 )"
      ],
      "metadata": {
        "colab": {
          "base_uri": "https://localhost:8080/"
        },
        "id": "KYj5Jy5sjJNS",
        "outputId": "4ca1eb6c-1fd9-44a2-cf16-285f410e1936"
      },
      "execution_count": 15,
      "outputs": [
        {
          "output_type": "stream",
          "name": "stdout",
          "text": [
            "Epoch 1/10\n",
            "391/391 [==============================] - 10s 9ms/step - loss: 2.3038 - accuracy: 0.1094 - val_loss: 2.4108 - val_accuracy: 0.1150\n",
            "Epoch 2/10\n",
            "391/391 [==============================] - 3s 8ms/step - loss: 2.3014 - accuracy: 0.1115 - val_loss: 3.9989 - val_accuracy: 0.1506\n",
            "Epoch 3/10\n",
            "391/391 [==============================] - 3s 8ms/step - loss: 2.3013 - accuracy: 0.1115 - val_loss: 4.3015 - val_accuracy: 0.1534\n",
            "Epoch 4/10\n",
            "391/391 [==============================] - 3s 8ms/step - loss: 2.3013 - accuracy: 0.1115 - val_loss: 4.3114 - val_accuracy: 0.1532\n",
            "Epoch 5/10\n",
            "391/391 [==============================] - 3s 8ms/step - loss: 2.3013 - accuracy: 0.1115 - val_loss: 4.3073 - val_accuracy: 0.1536\n",
            "Epoch 6/10\n",
            "391/391 [==============================] - 3s 8ms/step - loss: 2.3013 - accuracy: 0.1115 - val_loss: 4.3057 - val_accuracy: 0.1544\n",
            "Epoch 7/10\n",
            "391/391 [==============================] - 3s 8ms/step - loss: 2.3013 - accuracy: 0.1115 - val_loss: 4.3128 - val_accuracy: 0.1538\n",
            "Epoch 8/10\n",
            "391/391 [==============================] - 3s 8ms/step - loss: 2.3013 - accuracy: 0.1115 - val_loss: 4.3090 - val_accuracy: 0.1536\n",
            "Epoch 9/10\n",
            "391/391 [==============================] - 3s 8ms/step - loss: 2.3013 - accuracy: 0.1115 - val_loss: 4.3138 - val_accuracy: 0.1535\n",
            "Epoch 10/10\n",
            "391/391 [==============================] - 3s 8ms/step - loss: 2.3013 - accuracy: 0.1115 - val_loss: 4.3115 - val_accuracy: 0.1538\n"
          ]
        }
      ]
    },
    {
      "cell_type": "markdown",
      "source": [
        "## (d) (c)를 통해 10epoch 동안 학습한 후의 (a) 모형과 (b) 모형의 시험 자료에서의 정분류율을 계산하시오. 어떤 모형이 더 높은 정분류율을 갖는가? 각 모형의 모수의 개수를 고려할 때, 이미지 분석에 있어서 어떤 모형이 더 우수하다고 할 수 있는지 논의하시오."
      ],
      "metadata": {
        "id": "PcoVqA5CdCsX"
      }
    },
    {
      "cell_type": "markdown",
      "source": [
        "### (1) (a) 모형의 시험자료에서의 정분류율\n"
      ],
      "metadata": {
        "id": "7tGUQvnCkCVF"
      }
    },
    {
      "cell_type": "code",
      "source": [
        "model.evaluate(x_test, y_test_onehot) "
      ],
      "metadata": {
        "colab": {
          "base_uri": "https://localhost:8080/"
        },
        "id": "z-KiHXZUkLqI",
        "outputId": "979bde73-7b68-4516-88cf-76ea4ba9e3b0"
      },
      "execution_count": 16,
      "outputs": [
        {
          "output_type": "stream",
          "name": "stdout",
          "text": [
            "313/313 [==============================] - 1s 3ms/step - loss: 442.2672 - accuracy: 0.0889\n"
          ]
        },
        {
          "output_type": "execute_result",
          "data": {
            "text/plain": [
              "[442.2672119140625, 0.08889999985694885]"
            ]
          },
          "metadata": {},
          "execution_count": 16
        }
      ]
    },
    {
      "cell_type": "markdown",
      "source": [
        "### (2) (b) 모형의 시험자료에서의 정분류율"
      ],
      "metadata": {
        "id": "gPl4xpg0kN0E"
      }
    },
    {
      "cell_type": "code",
      "source": [
        "model2.evaluate(x_test, y_test_onehot) "
      ],
      "metadata": {
        "colab": {
          "base_uri": "https://localhost:8080/"
        },
        "id": "q2EVNxXrkTRg",
        "outputId": "fa4007d6-a8bd-43d2-a714-d1409f4b92e7"
      },
      "execution_count": 17,
      "outputs": [
        {
          "output_type": "stream",
          "name": "stdout",
          "text": [
            "313/313 [==============================] - 1s 3ms/step - loss: 2.3010 - accuracy: 0.1135\n"
          ]
        },
        {
          "output_type": "execute_result",
          "data": {
            "text/plain": [
              "[2.3010458946228027, 0.11349999904632568]"
            ]
          },
          "metadata": {},
          "execution_count": 17
        }
      ]
    },
    {
      "cell_type": "markdown",
      "source": [
        "### (3) 이미지 분석에 있어 어떤 모형이 우수한지"
      ],
      "metadata": {
        "id": "WmAqTv3akVXW"
      }
    },
    {
      "cell_type": "markdown",
      "source": [
        ": CNN 모형에서의 정분류율(b모형에서의 정분류율)이 더 높다. 또한, 추정해야 하는 모수의 개수도 CNN 모형이 훨씬 적으며, 이는 모형의 성능 및 계산 속도 개선과도 직결되는 문제이다. 따라서 이미지 분석에 있어 CNN 모형이 우수하다."
      ],
      "metadata": {
        "id": "WdNJI6-Okbfa"
      }
    }
  ]
}